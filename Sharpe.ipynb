{
 "cells": [
  {
   "cell_type": "markdown",
   "metadata": {},
   "source": [
    "**Sharpe Ratio evaluation for Tesla versus competitors**\n",
    "\n",
    "Method to calculate Sharpe ratio using python comes from https://projects.datacamp.com/projects/66\n",
    "\n",
    "Daily data is coming from https://finance.yahoo.com/quote/TSLA/history?p=TSLA  First pass data was exported on 9-Nov-2023.  I may do another pass where I download it for the day with web scraping.  That would be cool!\n",
    "\n",
    "List of Tesla competitors came from here:  https://money.usnews.com/investing/stock-market-news/slideshows/upstart-tesla-competitors-to-watch\n",
    "\n",
    "Great article on data cleaning:  https://towardsdatascience.com/data-cleaning-with-python-and-pandas-detecting-missing-values-3e9c6ebcf78b#:~:text=Using%20the%20isnull()%20method,NA%E2%80%9D%20types%20as%20missing%20values."
   ]
  },
  {
   "cell_type": "markdown",
   "metadata": {},
   "source": [
    "**Shared functions -- find out how to put this in a different file, if possible.**"
   ]
  },
  {
   "cell_type": "code",
   "execution_count": 73,
   "metadata": {},
   "outputs": [],
   "source": [
    "# Shared import function -- find out how to put this in a different file, if possible.\n",
    "def import_df(file_name, cols,dayfirst=True,is_verbose=False):\n",
    "\n",
    "    import pandas as pd\n",
    "    import csv\n",
    "    import numpy as np\n",
    "    # Making a list of missing value types\n",
    "    missing_values = [\"n/a\", \"na\", \"-\"]\n",
    "    \n",
    "    #import data\n",
    "    df = pd.read_csv(file_name\n",
    "                     ,thousands=','\n",
    "                     ,dtype=str\n",
    "                     ,na_values = missing_values\n",
    "                    ).fillna(0)\n",
    "    df = df[cols]\n",
    " \n",
    "    #rename columns\n",
    "    df.rename(columns={'Adj Close**':'Close'}, inplace=True)\n",
    "    df.rename(columns={'Adj Close':'Close'}, inplace=True)\n",
    "    \n",
    "    #convert date to datetime\n",
    "    df['Date'] = pd.to_datetime(df['Date'],format='mixed',dayfirst=dayfirst)\n",
    "    \n",
    "    #convert close to float\n",
    "    df['Close'].replace(',','',regex=True,inplace=True)\n",
    "    df['Close'] = pd.to_numeric(df['Close'])\n",
    "\n",
    "    # Convert volume to int, checking for unexpected values--there is something funky here.  Possibly revisit.\n",
    "    df['Volume'].replace(',','',regex=True,inplace=True)\n",
    "    cnt=0\n",
    "    for row in df['Volume']:\n",
    "        try:\n",
    "            df.loc[cnt, 'Volume']=int(row)\n",
    "        except ValueError:\n",
    "            df.loc[cnt, 'Volume']=np.nan\n",
    "        if(df.loc[cnt, 'Volume']==0):\n",
    "            df.loc[cnt, 'Volume']=np.nan\n",
    "        cnt+=1\n",
    "    df['Volume'] = pd.to_numeric(df['Volume'])  \n",
    "\n",
    "    #debugging stuff \n",
    "    #print(df.isnull().sum())\n",
    "    \n",
    "    # Replace nulls using median \n",
    "    median = df['Volume'].median()\n",
    "    df['Volume'].fillna(median, inplace=True)\n",
    "    df.set_index('Date',inplace=True)\n",
    "\n",
    "    if(is_verbose):\n",
    "        print(file_name + ' info:')\n",
    "        print(df.info())\n",
    "         #print(df.head())\n",
    "        print('\\n')\n",
    "\n",
    "    return df\n",
    "\n",
    "\n",
    "\n"
   ]
  },
  {
   "cell_type": "markdown",
   "metadata": {},
   "source": [
    "**Start of actual code**"
   ]
  },
  {
   "cell_type": "markdown",
   "metadata": {},
   "source": [
    "_Import librariess_"
   ]
  },
  {
   "cell_type": "code",
   "execution_count": 74,
   "metadata": {},
   "outputs": [],
   "source": [
    "#import libraries\n",
    "import pandas as pd\n",
    "import csv\n",
    "import numpy as np\n"
   ]
  },
  {
   "cell_type": "markdown",
   "metadata": {},
   "source": [
    "_Placeholder:  scrape data off of S&P site_"
   ]
  },
  {
   "cell_type": "markdown",
   "metadata": {},
   "source": [
    "_Import CSV files_"
   ]
  },
  {
   "cell_type": "code",
   "execution_count": 75,
   "metadata": {},
   "outputs": [],
   "source": [
    "#import data\n",
    "cols_asterisk = ['Date','Adj Close**','Volume']\n",
    "cols_no_asterisk = ['Date','Adj Close','Volume']\n",
    "\n",
    "#import S&P as benchmark\n",
    "benchmark_data = import_df('snp_data_22nov_23nov.csv', cols_asterisk)\n",
    "\n",
    "#import Tesla and Rivian\n",
    "tesla = import_df('tesla_data_22nov_23nov.csv', cols_asterisk)\n",
    "rivn = import_df('rivn_data_22nov_23nov.csv', cols_no_asterisk,dayfirst=False)\n"
   ]
  },
  {
   "cell_type": "markdown",
   "metadata": {},
   "source": [
    "_Prep the data for calculations - merge stock DataFrames and calculate returns for stocks and benchmark_"
   ]
  },
  {
   "cell_type": "code",
   "execution_count": 76,
   "metadata": {},
   "outputs": [],
   "source": [
    "#merge Tesla and Rivian (add other stocks later)\n",
    "stock_data = tesla.merge(rivn, how='outer', left_index=True, right_index=True, suffixes=('_tesla', '_rivn'))\n",
    "\n",
    "# print(stock_data.head())\n",
    "\n",
    "# visualize the stock_data\n",
    "# stock_data[['Close_tesla','Close_rivn']].plot(subplots=True,title='Stock Data');\n",
    "\n",
    "# summarize the stock_data\n",
    "#print('Stock data summary:')\n",
    "# print(stock_data.describe())\n",
    "\n",
    "# benchmark_data['Close'].plot(subplots=True,title='SMP Benchmark Data');\n",
    "\n",
    "# print('Benchmark data summary:')\n",
    "# print(benchmark_data.describe())\n",
    "\n",
    "# calculate daily stock_data returns\n",
    "stock_returns = stock_data.pct_change()\n",
    "\n",
    "# plot the daily returns\n",
    "#stock_returns.plot(subplots=True,title='Stock Returns');\n",
    "\n",
    "# summarize the daily returns\n",
    "# print('Stock returns summary:')\n",
    "# print(stock_returns.describe())\n",
    "\n",
    "# calculate daily benchmark_data returns\n",
    "sp_returns = benchmark_data['Close'].pct_change()\n",
    "# print('Benchmark returns summary')\n",
    "# print(sp_returns)\n",
    "# sp_returns.plot(title='S&P 500 Returns');"
   ]
  },
  {
   "cell_type": "markdown",
   "metadata": {},
   "source": [
    "_Calculate excess returns_"
   ]
  },
  {
   "cell_type": "code",
   "execution_count": 77,
   "metadata": {},
   "outputs": [],
   "source": [
    "df_excess = stock_returns.sub(sp_returns, axis=0)\n",
    "# df_excess[['Close_tesla','Close_rivn']].plot(subplots=True,title='Excess Returns');\n"
   ]
  },
  {
   "cell_type": "markdown",
   "metadata": {},
   "source": [
    "The Sharpe Ratio, Step 1: The Average Difference in Daily Returns Stocks vs S&P 500\n",
    "\n",
    "Now we can finally start computing the Sharpe Ratio. First we need to calculate the average of the excess_returns. This tells us how much more or less the investment yields per day compared to the benchmark.\n"
   ]
  },
  {
   "cell_type": "code",
   "execution_count": 78,
   "metadata": {},
   "outputs": [],
   "source": [
    "# calculate the mean of excess_returns \n",
    "# ... YOUR CODE FOR TASK 8 HERE ...\n",
    "avg_excess_return = df_excess[['Close_tesla','Close_rivn']].mean()\n",
    "\n",
    "# plot avg_excess_returns\n",
    "# avg_excess_return.plot.bar(title='Mean of the Return Difference');"
   ]
  },
  {
   "cell_type": "markdown",
   "metadata": {},
   "source": [
    "The Sharpe Ratio, Step 2: Standard Deviation of the Return Difference\n",
    "\n",
    "It looks like there was quite a bit of a difference between average daily returns for Amazon and Facebook.\n",
    "\n",
    "Next, we calculate the standard deviation of the excess_returns. This shows us the amount of risk an investment in the stocks implies as compared to an investment in the S&P 500."
   ]
  },
  {
   "cell_type": "code",
   "execution_count": 79,
   "metadata": {},
   "outputs": [
    {
     "data": {
      "image/png": "[encoded data removed]",
      "text/plain": [
       "<Figure size 640x480 with 1 Axes>"
      ]
     },
     "metadata": {},
     "output_type": "display_data"
    }
   ],
   "source": [
    "sd_excess_return = df_excess[['Close_tesla','Close_rivn']].std()\n",
    "sd_excess_return.plot.bar(title='STD of the Return Difference');"
   ]
  },
  {
   "cell_type": "markdown",
   "metadata": {},
   "source": [
    "10. Putting it all together\n",
    "\n",
    "Now we just need to compute the ratio of avg_excess_returns and sd_excess_returns. The result is now finally the Sharpe ratio and indicates how much more (or less) return the investment opportunity under consideration yields per unit of risk.\n",
    "\n",
    "The Sharpe Ratio is often annualized by multiplying it by the square root of the number of periods. We have used daily data as input, so we'll use the square root of the number of trading days (5 days, 52 weeks, minus a few holidays): √252"
   ]
  },
  {
   "cell_type": "code",
   "execution_count": 81,
   "metadata": {},
   "outputs": [
    {
     "data": {
      "image/png": "[encoded data removed]",
      "text/plain": [
       "<Figure size 640x480 with 1 Axes>"
      ]
     },
     "metadata": {},
     "output_type": "display_data"
    }
   ],
   "source": [
    "import math\n",
    "daily_sharpe_ratio = avg_excess_return.div(sd_excess_return)\n",
    "annual_factor = math.sqrt(252)\n",
    "annual_sharpe_ratio = daily_sharpe_ratio.mul(annual_factor)\n",
    "\n",
    "sd_excess_return.plot.bar(title='Annual Sharpe Ratio');"
   ]
  }
 ],
 "metadata": {
  "kernelspec": {
   "display_name": "Python 3",
   "language": "python",
   "name": "python3"
  },
  "language_info": {
   "codemirror_mode": {
    "name": "ipython",
    "version": 3
   },
   "file_extension": ".py",
   "mimetype": "text/x-python",
   "name": "python",
   "nbconvert_exporter": "python",
   "pygments_lexer": "ipython3",
   "version": "3.11.5"
  }
 },
 "nbformat": 4,
 "nbformat_minor": 2
}
