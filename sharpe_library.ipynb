{
 "cells": [
  {
   "cell_type": "markdown",
   "metadata": {},
   "source": [
    "# Functions called by Sharpe capstone project"
   ]
  },
  {
   "cell_type": "code",
   "execution_count": null,
   "metadata": {},
   "outputs": [],
   "source": [
    "def import_df(file_name, cols,dayfirst=True):\n",
    "\n",
    "    import pandas as pd\n",
    "    import csv\n",
    "    import numpy as np\n",
    "    # Making a list of missing value types\n",
    "    missing_values = [\"n/a\", \"na\", \"-\"]\n",
    "    \n",
    "    #import data\n",
    "    df = pd.read_csv(file_name\n",
    "                     ,thousands=','\n",
    "                     ,dtype=str\n",
    "                     ,na_values = missing_values\n",
    "                    ).fillna(0)\n",
    "    df = df[cols]\n",
    " \n",
    "    #rename columns\n",
    "    df.rename(columns={'Adj Close**':'Close'}, inplace=True)\n",
    "    df.rename(columns={'Adj Close':'Close'}, inplace=True)\n",
    "    \n",
    "    #convert date to datetime\n",
    "    df['Date'] = pd.to_datetime(df['Date'],format='mixed',dayfirst=dayfirst)\n",
    "    \n",
    "    #convert close to float\n",
    "    df['Close'].replace(',','',regex=True,inplace=True)\n",
    "    df['Close'] = pd.to_numeric(df['Close'])\n",
    "\n",
    "    # Convert volume to int, checking for unexpected values--there is something funky here.  Possibly revisit.\n",
    "    df['Volume'].replace(',','',regex=True,inplace=True)\n",
    "    cnt=0\n",
    "    for row in df['Volume']:\n",
    "        try:\n",
    "            df.loc[cnt, 'Volume']=int(row)\n",
    "        except ValueError:\n",
    "            df.loc[cnt, 'Volume']=np.nan\n",
    "        if(df.loc[cnt, 'Volume']==0):\n",
    "            df.loc[cnt, 'Volume']=np.nan\n",
    "        cnt+=1\n",
    "    df['Volume'] = pd.to_numeric(df['Volume'])  \n",
    "\n",
    "    #debugging stuff \n",
    "    #print(df.isnull().sum())\n",
    "    \n",
    "    # Replace nulls using median \n",
    "    median = df['Volume'].median()\n",
    "    df['Volume'].fillna(median, inplace=True)\n",
    "    df.set_index('Date',inplace=True)\n",
    "    print(file_name + ' info:')\n",
    "    # print(df.info())\n",
    "    print(df.head())\n",
    "    print('\\n')\n",
    "\n",
    "    return df"
   ]
  }
 ],
 "metadata": {
  "kernelspec": {
   "display_name": "Python 3",
   "language": "python",
   "name": "python3"
  },
  "language_info": {
   "name": "python",
   "version": "3.11.5"
  }
 },
 "nbformat": 4,
 "nbformat_minor": 2
}
